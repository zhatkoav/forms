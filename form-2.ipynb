{
 "cells": [
  {
   "cell_type": "code",
   "execution_count": 1,
   "metadata": {},
   "outputs": [],
   "source": [
    "import pandas as pd \n",
    "import numpy as np\n",
    "import os, sys, csv"
   ]
  },
  {
   "cell_type": "code",
   "execution_count": 2,
   "metadata": {},
   "outputs": [],
   "source": [
    "src_df = {}\n",
    "src_files = os.scandir('src_forms2')"
   ]
  },
  {
   "cell_type": "code",
   "execution_count": 3,
   "metadata": {},
   "outputs": [],
   "source": [
    "for i in src_files:\n",
    "    src_df[i.name.split('.')[0]]  = pd.read_csv(i.path)"
   ]
  },
  {
   "cell_type": "code",
   "execution_count": 4,
   "metadata": {},
   "outputs": [],
   "source": [
    "src_df['forms_raw4_2'] = src_df['forms_raw4_2'].drop_duplicates()"
   ]
  },
  {
   "cell_type": "code",
   "execution_count": 5,
   "metadata": {},
   "outputs": [],
   "source": [
    "def create_unit_key(x):\n",
    "    x = x.dropna()\n",
    "    if 'label' in x and 'value' in x:\n",
    "        return ','.join([x['label'], x['value'], 'Нет'])\n",
    "    elif 'label' in x and 'options' in x:\n",
    "        x['options'] = x['options'].split('\\\\r\\\\n')\n",
    "        for y in range(len(x['options'])):\n",
    "            x['options'][y] = x['options'][y].split('=')[0]\n",
    "        x['options'] = ','.join(x['options'])\n",
    "        return ','.join([x['label'], x['options']])\n",
    "    elif 'label' in x:\n",
    "        return x['label']\n",
    "    else :\n",
    "        return ','.join(x.dropna().astype(str))"
   ]
  },
  {
   "cell_type": "code",
   "execution_count": 6,
   "metadata": {},
   "outputs": [],
   "source": [
    "src_df['forms_raw4_2']['unitkey'] = src_df['forms_raw4_2'].apply(lambda x: create_unit_key(x) ,axis=1)"
   ]
  },
  {
   "cell_type": "code",
   "execution_count": 7,
   "metadata": {},
   "outputs": [],
   "source": [
    "src_df['forms_name'] = pd.merge(src_df['forms_raw4'], src_df['forms_raw4_2'][['label', 'name']], how='left', on='label')"
   ]
  },
  {
   "cell_type": "code",
   "execution_count": 8,
   "metadata": {},
   "outputs": [],
   "source": [
    "src_df['forms_name'] = src_df['forms_name'].append(src_df['forms_raw4_2'], sort=False)"
   ]
  },
  {
   "cell_type": "code",
   "execution_count": 9,
   "metadata": {},
   "outputs": [],
   "source": [
    "src_df['forms_name'] = pd.merge(src_df['forms_name']['unitkey'], src_df['forms_raw6'], how='left', on='unitkey')"
   ]
  },
  {
   "cell_type": "code",
   "execution_count": 10,
   "metadata": {},
   "outputs": [],
   "source": [
    "src_df['forms_name'] = src_df['forms_name'].append(src_df['forms_raw6'], sort=False)"
   ]
  },
  {
   "cell_type": "code",
   "execution_count": 11,
   "metadata": {},
   "outputs": [],
   "source": [
    "src_df['forms_name'] = src_df['forms_name'].drop_duplicates().sort_values('unitkey')"
   ]
  },
  {
   "cell_type": "code",
   "execution_count": 12,
   "metadata": {},
   "outputs": [],
   "source": [
    "src_df['forms_name'].to_csv('forms_raw6_12.csv', index=False, quoting=csv.QUOTE_NONNUMERIC)"
   ]
  },
  {
   "cell_type": "code",
   "execution_count": null,
   "metadata": {},
   "outputs": [],
   "source": []
  }
 ],
 "metadata": {
  "kernelspec": {
   "display_name": "Python 3",
   "language": "python",
   "name": "python3"
  },
  "language_info": {
   "codemirror_mode": {
    "name": "ipython",
    "version": 3
   },
   "file_extension": ".py",
   "mimetype": "text/x-python",
   "name": "python",
   "nbconvert_exporter": "python",
   "pygments_lexer": "ipython3",
   "version": "3.8.7"
  }
 },
 "nbformat": 4,
 "nbformat_minor": 4
}
