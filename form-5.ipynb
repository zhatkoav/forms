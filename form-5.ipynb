{
 "cells": [
  {
   "cell_type": "code",
   "execution_count": 1,
   "metadata": {},
   "outputs": [],
   "source": [
    "import pandas as pd \n",
    "import numpy as np\n",
    "import os, sys\n",
    "import json, copy\n",
    "import csv"
   ]
  },
  {
   "cell_type": "code",
   "execution_count": 2,
   "metadata": {},
   "outputs": [],
   "source": [
    "db_form = pd.read_csv('src_forms4\\\\zp_chronoengine_forms6_2.csv')\n",
    "row = db_form.iloc[0]\n",
    "result = pd.DataFrame(columns=db_form.columns)\n",
    "file_csv = os.scandir('src_forms4\\\\csv')\n",
    "file_json = os.scandir('src_forms4\\\\json')\n",
    "src_csv = {}\n",
    "src_json = {}"
   ]
  },
  {
   "cell_type": "code",
   "execution_count": 3,
   "metadata": {},
   "outputs": [],
   "source": [
    "for i in file_csv:\n",
    "    src_csv[i.name.split('.')[0]]  = pd.read_csv(i.path)"
   ]
  },
  {
   "cell_type": "code",
   "execution_count": 4,
   "metadata": {},
   "outputs": [],
   "source": [
    "for i in file_json:\n",
    "    with open(i.path, \"rb\") as read_file:\n",
    "        src_json[i.name.split('.')[0]]  = json.load(read_file)"
   ]
  },
  {
   "cell_type": "code",
   "execution_count": 5,
   "metadata": {},
   "outputs": [],
   "source": [
    " def form_views(src_csv, src_json, appendix):\n",
    "    filds = []\n",
    "    for j in range(src_csv.shape[0]):\n",
    "        tmp = src_csv.iloc[j].dropna().to_dict()\n",
    "        tmp['designer_label'] = tmp['label']\n",
    "        tmp['text'] = tmp['label']\n",
    "        tmp['params'] = {}\n",
    "        tmp['params'].update({'value': tmp['value']} if tmp.get('value') else {})\n",
    "        tmp['params'].update({'name': tmp['name'], 'id': tmp['name']})\n",
    "        fild = copy.deepcopy(src_json[tmp['type']])\n",
    "        intersect_keys = set(tmp)\n",
    "        intersect_keys.intersection_update(set(fild))\n",
    "        for k in intersect_keys:\n",
    "            if k == 'params':\n",
    "                fild[k].update(tmp[k])\n",
    "            elif k == 'options':\n",
    "                fild[k] = tmp[k].replace('\\\\\\\\', '\\\\')\n",
    "            else:\n",
    "                fild[k] = tmp[k]\n",
    "        filds.append(fild)\n",
    "    filds = filds + list(appendix.values())\n",
    "    filds_dict = {}\n",
    "    for l,m in enumerate(filds, 1):\n",
    "        filds_dict.update({str(l): m})\n",
    "    return json.dumps(filds_dict, ensure_ascii=False)"
   ]
  },
  {
   "cell_type": "code",
   "execution_count": 6,
   "metadata": {},
   "outputs": [],
   "source": [
    "result = pd.DataFrame(columns=result.columns)\n",
    "for i, k in enumerate(src_csv, 10):\n",
    "    row_tmp = row.copy()\n",
    "    row_tmp_title = src_csv[k]['label'].iloc[0] + ' на заказ'\n",
    "    row_tmp['id'] = i\n",
    "    row_tmp['title'] = row_tmp_title\n",
    "    row_tmp['alias'] = 'custom_' + k\n",
    "    row_tmp['views'] = form_views(src_csv[k], src_json['filds'], src_json['contacts']).replace('/','\\\\\\\\/').replace('\\\\\"','\\\\\\\\\"')\n",
    "    row_tmp_func = json.loads(row_tmp['functions'])\n",
    "    row_tmp_func['6']['subject'] = row_tmp_title\n",
    "    row_tmp_func['8']['subject'] = row_tmp_title\n",
    "    row_tmp['functions'] = json.dumps(row_tmp_func, ensure_ascii=False).replace('/','\\\\\\\\/')\n",
    "    result = result.append(row_tmp)"
   ]
  },
  {
   "cell_type": "code",
   "execution_count": 7,
   "metadata": {},
   "outputs": [],
   "source": [
    "result.to_csv('zp_chronoengine_forms61.csv', index=False, quoting=csv.QUOTE_NONNUMERIC, sep=';', header=False)"
   ]
  },
  {
   "cell_type": "code",
   "execution_count": null,
   "metadata": {},
   "outputs": [],
   "source": []
  }
 ],
 "metadata": {
  "kernelspec": {
   "display_name": "Python 3",
   "language": "python",
   "name": "python3"
  },
  "language_info": {
   "codemirror_mode": {
    "name": "ipython",
    "version": 3
   },
   "file_extension": ".py",
   "mimetype": "text/x-python",
   "name": "python",
   "nbconvert_exporter": "python",
   "pygments_lexer": "ipython3",
   "version": "3.8.7"
  }
 },
 "nbformat": 4,
 "nbformat_minor": 4
}
