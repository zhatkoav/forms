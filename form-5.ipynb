{
 "cells": [
  {
   "cell_type": "markdown",
   "metadata": {},
   "source": [
    "imports"
   ]
  },
  {
   "cell_type": "code",
   "execution_count": 1,
   "metadata": {},
   "outputs": [],
   "source": [
    "import pandas as pd \n",
    "import numpy as np\n",
    "import os, sys\n",
    "import json, copy\n",
    "import csv"
   ]
  },
  {
   "cell_type": "markdown",
   "metadata": {},
   "source": [
    "vars"
   ]
  },
  {
   "cell_type": "code",
   "execution_count": 2,
   "metadata": {},
   "outputs": [],
   "source": [
    "db_form = pd.read_csv('src_forms4\\\\zp_chronoengine_forms6_2.csv')\n",
    "row_ser = db_form.iloc[0]\n",
    "result = pd.DataFrame(columns=db_form.columns)\n",
    "src_df = pd.DataFrame()\n",
    "file_csv = os.scandir('src_forms4\\\\csv')\n",
    "file_json = os.scandir('src_forms4\\\\json')\n",
    "src_csv = {}\n",
    "src_json = {}\n",
    "filds = []\n",
    "row = {}"
   ]
  },
  {
   "cell_type": "code",
   "execution_count": 3,
   "metadata": {},
   "outputs": [],
   "source": [
    "for i in file_csv:\n",
    "    src_csv[i.name.split('.')[0]]  = pd.read_csv(i.path)\n",
    "#print(src_csv)"
   ]
  },
  {
   "cell_type": "code",
   "execution_count": 4,
   "metadata": {},
   "outputs": [],
   "source": [
    "for i in file_json:\n",
    "#     print(i.path)\n",
    "    with open(i.path, \"rb\") as read_file:\n",
    "        src_json[i.name.split('.')[0]]  = json.load(read_file)\n",
    "#print(src_json['filds'])"
   ]
  },
  {
   "cell_type": "code",
   "execution_count": 5,
   "metadata": {},
   "outputs": [],
   "source": [
    " def form_views(src_csv, src_json, appendix):\n",
    "    filds = []\n",
    "    for j in range(src_csv.shape[0]):\n",
    "        tmp = src_csv.iloc[j].dropna().to_dict()\n",
    "        tmp['designer_label'] = tmp['label']\n",
    "        tmp['text'] = tmp['label']\n",
    "        tmp['params'] = {}\n",
    "        tmp['params'].update({'value': tmp['value']} if tmp.get('value') else {})\n",
    "        tmp['params'].update({'name': tmp['name'], 'id': tmp['name']})\n",
    "        fild = copy.deepcopy(src_json[tmp['type']])\n",
    "#         contacts = copy.deepcopy(appendix)\n",
    "        intersect_keys = set(tmp)\n",
    "        intersect_keys.intersection_update(set(fild))\n",
    "        for k in intersect_keys:\n",
    "            if k == 'params':\n",
    "                fild[k].update(tmp[k])\n",
    "            elif k == 'options':\n",
    "                fild[k] = tmp[k].replace('\\\\\\\\', '\\\\')\n",
    "            else:\n",
    "                fild[k] = tmp[k]\n",
    "        filds.append(fild)\n",
    "    filds = filds + list(appendix.values())\n",
    "    filds_dict = {}\n",
    "    for l,m in enumerate(filds, 1):\n",
    "        filds_dict.update({str(l): m})\n",
    "    return json.dumps(filds_dict, ensure_ascii=False)\n",
    "#     return dict(enumerate(filds, 1))\n",
    "#     return filds_dict"
   ]
  },
  {
   "cell_type": "markdown",
   "metadata": {},
   "source": [
    "src_df.to_csv('forms_raw6.csv', index=False)"
   ]
  },
  {
   "cell_type": "markdown",
   "metadata": {},
   "source": [
    "row_ser\n",
    "src_json"
   ]
  },
  {
   "cell_type": "code",
   "execution_count": 6,
   "metadata": {},
   "outputs": [],
   "source": [
    "result = pd.DataFrame(columns=result.columns)\n",
    "for i, k in enumerate(src_csv, 10):\n",
    "    row_ser2 = row_ser.copy()\n",
    "    row_ser_title = src_csv[k]['label'].iloc[0] + ' на заказ'\n",
    "    row_ser2['id'] = i\n",
    "    row_ser2['title'] = row_ser_title\n",
    "    row_ser2['alias'] = 'custom_' + k\n",
    "#     row_ser2['params'] = json.loads(row_ser2['params'])\n",
    "#     row_ser2['locales'] = json.loads(row_ser2['locales'])\n",
    "#     row_ser2['events'] = json.loads(row_ser2['events'])\n",
    "\n",
    "    row_ser2['views'] = form_views(src_csv[k], src_json['filds'], src_json['contacts']).replace('/','\\\\\\\\/').replace('\\\\\"','\\\\\\\\\"')\n",
    "    row_ser_func = json.loads(row_ser2['functions'])\n",
    "    row_ser_func['6']['subject'] = row_ser_title\n",
    "    row_ser_func['8']['subject'] = row_ser_title\n",
    "    row_ser2['functions'] = json.dumps(row_ser_func, ensure_ascii=False).replace('/','\\\\\\\\/')\n",
    "    result = result.append(row_ser2)\n",
    "#     break"
   ]
  },
  {
   "cell_type": "markdown",
   "metadata": {},
   "source": [
    "result.iloc[9]['views']"
   ]
  },
  {
   "cell_type": "markdown",
   "metadata": {},
   "source": [
    "result.iloc[9].to_dict()"
   ]
  },
  {
   "cell_type": "markdown",
   "metadata": {},
   "source": [
    "json.dumps(result.iloc[9].to_dict(), ensure_ascii=False)"
   ]
  },
  {
   "cell_type": "code",
   "execution_count": 11,
   "metadata": {},
   "outputs": [],
   "source": [
    "result.to_csv('zp_chronoengine_forms6.csv', index=False, quoting=csv.QUOTE_NONNUMERIC, sep=';', header=False)"
   ]
  },
  {
   "cell_type": "code",
   "execution_count": 8,
   "metadata": {},
   "outputs": [
    {
     "data": {
      "text/plain": [
       "id             object\n",
       "title          object\n",
       "alias          object\n",
       "published      object\n",
       "public         object\n",
       "description    object\n",
       "params         object\n",
       "events         object\n",
       "sections       object\n",
       "views          object\n",
       "functions      object\n",
       "locales        object\n",
       "rules          object\n",
       "dtype: object"
      ]
     },
     "execution_count": 8,
     "metadata": {},
     "output_type": "execute_result"
    }
   ],
   "source": [
    "result.dtypes"
   ]
  },
  {
   "cell_type": "markdown",
   "metadata": {},
   "source": [
    "result.to_csv('sku_head.csv')"
   ]
  },
  {
   "cell_type": "code",
   "execution_count": null,
   "metadata": {},
   "outputs": [],
   "source": []
  }
 ],
 "metadata": {
  "kernelspec": {
   "display_name": "Python 3",
   "language": "python",
   "name": "python3"
  },
  "language_info": {
   "codemirror_mode": {
    "name": "ipython",
    "version": 3
   },
   "file_extension": ".py",
   "mimetype": "text/x-python",
   "name": "python",
   "nbconvert_exporter": "python",
   "pygments_lexer": "ipython3",
   "version": "3.8.7"
  }
 },
 "nbformat": 4,
 "nbformat_minor": 4
}
