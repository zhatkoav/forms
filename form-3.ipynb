{
 "cells": [
  {
   "cell_type": "code",
   "execution_count": 1,
   "metadata": {},
   "outputs": [],
   "source": [
    "import pandas as pd \n",
    "import numpy as np\n",
    "from pathlib import Path"
   ]
  },
  {
   "cell_type": "code",
   "execution_count": 1,
   "metadata": {},
   "outputs": [
    {
     "ename": "NameError",
     "evalue": "name 'Path' is not defined",
     "output_type": "error",
     "traceback": [
      "\u001b[1;31m---------------------------------------------------------------------------\u001b[0m",
      "\u001b[1;31mNameError\u001b[0m                                 Traceback (most recent call last)",
      "\u001b[1;32m<ipython-input-1-d1d078e51d65>\u001b[0m in \u001b[0;36m<module>\u001b[1;34m\u001b[0m\n\u001b[1;32m----> 1\u001b[1;33m \u001b[0msrc_files\u001b[0m \u001b[1;33m=\u001b[0m \u001b[0mPath\u001b[0m\u001b[1;33m(\u001b[0m\u001b[1;34m'src_csv'\u001b[0m\u001b[1;33m)\u001b[0m\u001b[1;33m.\u001b[0m\u001b[0mglob\u001b[0m\u001b[1;33m(\u001b[0m\u001b[1;34m'*.csv'\u001b[0m\u001b[1;33m)\u001b[0m\u001b[1;33m\u001b[0m\u001b[1;33m\u001b[0m\u001b[0m\n\u001b[0m\u001b[0;32m      2\u001b[0m \u001b[0moutput_path\u001b[0m \u001b[1;33m=\u001b[0m \u001b[0mPath\u001b[0m\u001b[1;33m(\u001b[0m\u001b[1;34m'src_forms4/csv'\u001b[0m\u001b[1;33m)\u001b[0m\u001b[1;33m\u001b[0m\u001b[1;33m\u001b[0m\u001b[0m\n\u001b[0;32m      3\u001b[0m \u001b[0mpool_of_filds\u001b[0m \u001b[1;33m=\u001b[0m \u001b[0mpd\u001b[0m\u001b[1;33m.\u001b[0m\u001b[0mread_csv\u001b[0m\u001b[1;33m(\u001b[0m\u001b[0mPath\u001b[0m\u001b[1;33m(\u001b[0m\u001b[1;34m'src_forms3/raw/forms_raw6.csv'\u001b[0m\u001b[1;33m)\u001b[0m\u001b[1;33m,\u001b[0m \u001b[0mdtype\u001b[0m\u001b[1;33m=\u001b[0m\u001b[0mstr\u001b[0m\u001b[1;33m)\u001b[0m \u001b[1;31m#исходый файл предварительно орботан вручную\u001b[0m\u001b[1;33m\u001b[0m\u001b[1;33m\u001b[0m\u001b[0m\n",
      "\u001b[1;31mNameError\u001b[0m: name 'Path' is not defined"
     ]
    }
   ],
   "source": [
    "src_files = Path('src_csv').glob('*.csv')\n",
    "output_path = Path('src_forms4/csv')\n",
    "pool_of_filds = pd.read_csv(Path('src_forms3/raw/forms_raw6.csv'), dtype=str) #исходый файл предварительно орботан вручную"
   ]
  },
  {
   "cell_type": "code",
   "execution_count": 3,
   "metadata": {},
   "outputs": [],
   "source": [
    "def create_unit_key(x):\n",
    "    x = x.dropna()\n",
    "    if 'label' and 'value' in x:\n",
    "        return ','.join([x['label'], x['value'], 'Нет'])\n",
    "    elif 'label' and 'options' in x:\n",
    "        x['options'] = x['options'].split('\\\\r\\\\n')\n",
    "        for y in range(len(x['options'])):\n",
    "            x['options'][y] = x['options'][y].split('=')[0]\n",
    "        x['options'] = ','.join(x['options'])\n",
    "        return ','.join([x['label'], x['options']])\n",
    "    elif 'label' in x:\n",
    "        return x['label']\n",
    "    else :\n",
    "        return ','.join(x.dropna().astype(str))"
   ]
  },
  {
   "cell_type": "code",
   "execution_count": 4,
   "metadata": {},
   "outputs": [],
   "source": [
    "for i in src_files:\n",
    "    result = pd.DataFrame()\n",
    "    result['unitkey'] = pd.read_csv(i, dtype=str).dropna(how='all').apply(lambda x: create_unit_key(x) ,axis=1)\n",
    "    result = pd.merge(result, pool_of_filds, how='left', on='unitkey')\n",
    "    result = result[['name', 'type', 'label', 'value', 'options']]\n",
    "    csv_file_stem = result['name'][result['type']=='divider'].iloc[0] or False\n",
    "    file_name = output_path / (csv_file_stem + '.csv') if csv_file_stem else output_path / i.name\n",
    "    result.to_csv(file_name, index=False)"
   ]
  },
  {
   "cell_type": "code",
   "execution_count": null,
   "metadata": {},
   "outputs": [],
   "source": []
  }
 ],
 "metadata": {
  "kernelspec": {
   "display_name": "Python 3",
   "language": "python",
   "name": "python3"
  },
  "language_info": {
   "codemirror_mode": {
    "name": "ipython",
    "version": 3
   },
   "file_extension": ".py",
   "mimetype": "text/x-python",
   "name": "python",
   "nbconvert_exporter": "python",
   "pygments_lexer": "ipython3",
   "version": "3.8.7"
  }
 },
 "nbformat": 4,
 "nbformat_minor": 4
}
