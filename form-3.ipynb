{
 "cells": [
  {
   "cell_type": "code",
   "execution_count": 1,
   "metadata": {},
   "outputs": [],
   "source": [
    "import pandas as pd \n",
    "import numpy as np\n",
    "import os, sys"
   ]
  },
  {
   "cell_type": "code",
   "execution_count": 6,
   "metadata": {},
   "outputs": [],
   "source": [
    "!pip freeze"
   ]
  },
  {
   "cell_type": "code",
   "execution_count": 7,
   "metadata": {},
   "outputs": [],
   "source": [
    "src_files = os.scandir('src_csv')\n",
    "output_path = 'src_forms4\\\\csv\\\\'\n",
    "pool_of_filds = pd.read_csv('src_forms3\\\\raw\\\\forms_raw6.csv', dtype=str) #исходый файл предварительно орботан вручную"
   ]
  },
  {
   "cell_type": "code",
   "execution_count": 8,
   "metadata": {},
   "outputs": [],
   "source": [
    "def create_unit_key(x):\n",
    "    x = x.dropna()\n",
    "    if 'label' and 'value' in x:\n",
    "        return ','.join([x['label'], x['value'], 'Нет'])\n",
    "    elif 'label' and 'options' in x:\n",
    "        x['options'] = x['options'].split('\\\\r\\\\n')\n",
    "        for y in range(len(x['options'])):\n",
    "            x['options'][y] = x['options'][y].split('=')[0]\n",
    "        x['options'] = ','.join(x['options'])\n",
    "        return ','.join([x['label'], x['options']])\n",
    "    elif 'label' in x:\n",
    "        return x['label']\n",
    "    else :\n",
    "        return ','.join(x.dropna().astype(str))"
   ]
  },
  {
   "cell_type": "code",
   "execution_count": 9,
   "metadata": {},
   "outputs": [],
   "source": [
    "for i in src_files:\n",
    "    result = pd.DataFrame()\n",
    "    result['unitkey'] = pd.read_csv(i.path, dtype=str).dropna(how='all').apply(lambda x: create_unit_key(x) ,axis=1)\n",
    "    result = pd.merge(result, pool_of_filds, how='left', on='unitkey')\n",
    "    result = result[['name', 'type', 'label', 'value', 'options']]\n",
    "    file_name = output_path + i.name if result['name'][result['type']=='divider'].empty else output_path + result['name'][result['type']=='divider'].iloc[0] + '.csv'\n",
    "    result.to_csv(file_name, index=False)"
   ]
  },
  {
   "cell_type": "code",
   "execution_count": null,
   "metadata": {},
   "outputs": [],
   "source": []
  }
 ],
 "metadata": {
  "kernelspec": {
   "display_name": "Python 3",
   "language": "python",
   "name": "python3"
  },
  "language_info": {
   "codemirror_mode": {
    "name": "ipython",
    "version": 3
   },
   "file_extension": ".py",
   "mimetype": "text/x-python",
   "name": "python",
   "nbconvert_exporter": "python",
   "pygments_lexer": "ipython3",
   "version": "3.8.7"
  }
 },
 "nbformat": 4,
 "nbformat_minor": 4
}
