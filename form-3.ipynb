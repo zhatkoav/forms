{
 "cells": [
  {
   "cell_type": "code",
   "execution_count": 1,
   "metadata": {},
   "outputs": [],
   "source": [
    "import pandas as pd \n",
    "import numpy as np\n",
    "import os, sys"
   ]
  },
  {
   "cell_type": "code",
   "execution_count": 2,
   "metadata": {},
   "outputs": [],
   "source": [
    "result = pd.DataFrame()"
   ]
  },
  {
   "cell_type": "code",
   "execution_count": 3,
   "metadata": {},
   "outputs": [],
   "source": [
    "src_df = {}\n",
    "src_files = os.scandir('src_forms')"
   ]
  },
  {
   "cell_type": "code",
   "execution_count": 4,
   "metadata": {},
   "outputs": [],
   "source": [
    "src_files2 = os.scandir('src_forms3/2')"
   ]
  },
  {
   "cell_type": "code",
   "execution_count": 5,
   "metadata": {},
   "outputs": [],
   "source": [
    "filds = pd.read_csv('src_forms3/raw/forms_raw6.csv', dtype=str)"
   ]
  },
  {
   "cell_type": "markdown",
   "metadata": {},
   "source": [
    "for i in src_files:\n",
    "    result = pd.DataFrame()\n",
    "    result['unitkey'] = pd.read_csv(i.path, dtype=str).dropna(how='all').apply(lambda x: ','.join(x.dropna().astype(str)),axis=1)\n",
    "    result = pd.merge(result, filds, how='left', on='unitkey')\n",
    "    result = result[['name', 'type', 'label', 'value', 'options']]\n",
    "    file_name = 'src_forms3\\\\' + result.name[result.type=='divider'] + '.csv'\n",
    "    #result.to_csv(file_name[0], index=False)\n",
    "    print(file_name[0])"
   ]
  },
  {
   "cell_type": "code",
   "execution_count": 6,
   "metadata": {},
   "outputs": [],
   "source": [
    "for i in src_files:\n",
    "    result = pd.DataFrame()\n",
    "    result['unitkey'] = pd.read_csv(i.path, dtype=str).dropna(how='all').apply(lambda x: ','.join(x.dropna().astype(str)),axis=1)\n",
    "    result = pd.merge(result, filds, how='left', on='unitkey')\n",
    "    result = result[['name', 'type', 'label', 'value', 'options']]\n",
    "    file_name = 'src_forms4\\\\csv\\\\' + result['name'][result['type']=='divider'] + '.csv'\n",
    "    result.to_csv(file_name[0], index=False)"
   ]
  },
  {
   "cell_type": "code",
   "execution_count": 7,
   "metadata": {},
   "outputs": [],
   "source": [
    "def paramtounit(x):\n",
    "    x = x.dropna()\n",
    "    #print(x['label'])\n",
    "    if 'label' in x and 'value' in x:\n",
    "        return ','.join([x['label'], x['value'], 'Нет'])\n",
    "    elif 'label' in x and 'options' in x:\n",
    "        x['options'] = x['options'].split('\\\\r\\\\n')\n",
    "        for y in range(len(x['options'])):\n",
    "            x['options'][y] = x['options'][y].split('=')[0]\n",
    "        x['options'] = ','.join(x['options'])\n",
    "        return ','.join([x['label'], x['options']])\n",
    "    else :\n",
    "        return x['label']"
   ]
  },
  {
   "cell_type": "code",
   "execution_count": 8,
   "metadata": {},
   "outputs": [],
   "source": [
    "for i in src_files2:\n",
    "    result = pd.DataFrame()\n",
    "    result = pd.read_csv(i.path, dtype=str)\n",
    "    result['unitkey'] = result.apply(lambda x: paramtounit(x) ,axis=1)\n",
    "    result = pd.merge(result['unitkey'], filds, how='left', on='unitkey')\n",
    "    result = result[['name', 'type', 'label', 'value', 'options']]\n",
    "    file_name = 'src_forms4\\\\csv\\\\' + result['name'][result['type']=='divider'] + '.csv'\n",
    "    result.to_csv(file_name[0], index=False)"
   ]
  },
  {
   "cell_type": "code",
   "execution_count": null,
   "metadata": {},
   "outputs": [],
   "source": []
  }
 ],
 "metadata": {
  "kernelspec": {
   "display_name": "Python 3",
   "language": "python",
   "name": "python3"
  },
  "language_info": {
   "codemirror_mode": {
    "name": "ipython",
    "version": 3
   },
   "file_extension": ".py",
   "mimetype": "text/x-python",
   "name": "python",
   "nbconvert_exporter": "python",
   "pygments_lexer": "ipython3",
   "version": "3.8.7"
  }
 },
 "nbformat": 4,
 "nbformat_minor": 4
}
