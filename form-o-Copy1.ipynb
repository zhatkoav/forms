{
 "cells": [
  {
   "cell_type": "code",
   "execution_count": 1,
   "metadata": {},
   "outputs": [],
   "source": [
    "import pandas as pd \n",
    "import numpy as np\n",
    "import os, sys, csv"
   ]
  },
  {
   "cell_type": "code",
   "execution_count": 2,
   "metadata": {},
   "outputs": [],
   "source": [
    "result = pd.DataFrame()\n",
    "src_df = pd.DataFrame()\n",
    "src_files = os.scandir('src_forms')"
   ]
  },
  {
   "cell_type": "code",
   "execution_count": 3,
   "metadata": {},
   "outputs": [],
   "source": [
    "for i in src_files:\n",
    "    tmp = pd.read_csv(i.path, dtype=str)\n",
    "    result = result.append(tmp, sort=False)"
   ]
  },
  {
   "cell_type": "code",
   "execution_count": 4,
   "metadata": {},
   "outputs": [],
   "source": [
    "result = result.dropna(how='all').drop_duplicates()"
   ]
  },
  {
   "cell_type": "code",
   "execution_count": 5,
   "metadata": {},
   "outputs": [
    {
     "data": {
      "text/plain": [
       "Unnamed: 0     object\n",
       "Unnamed: 1     object\n",
       "Unnamed: 2     object\n",
       "Unnamed: 3     object\n",
       "Unnamed: 4     object\n",
       "Unnamed: 5     object\n",
       "Unnamed: 6     object\n",
       "Unnamed: 7     object\n",
       "Unnamed: 8     object\n",
       "Unnamed: 9     object\n",
       "Unnamed: 10    object\n",
       "Unnamed: 11    object\n",
       "Unnamed: 12    object\n",
       "Unnamed: 13    object\n",
       "dtype: object"
      ]
     },
     "execution_count": 5,
     "metadata": {},
     "output_type": "execute_result"
    }
   ],
   "source": [
    "result.dtypes"
   ]
  },
  {
   "cell_type": "code",
   "execution_count": 6,
   "metadata": {},
   "outputs": [],
   "source": [
    "src_df['unitkey'] = result[result.columns[2:14]].apply(lambda x: ','.join(x.dropna().astype(str)),axis=1)"
   ]
  },
  {
   "cell_type": "markdown",
   "metadata": {},
   "source": [
    "src_df['params'] = result[result.columns[3:13]].apply(lambda x: x.dropna().astype(str) + '=' + x.dropna().astype(str),axis=1).apply(lambda x: '\\\\r\\\\n'.join(x.dropna().astype(str)),axis=1)"
   ]
  },
  {
   "cell_type": "markdown",
   "metadata": {},
   "source": [
    "def toparams(x):\n",
    "    x = x.dropna().astype(str)\n",
    "    #print(x.shape)\n",
    "    z = []\n",
    "    if x.shape[0]:\n",
    "        for y in x:\n",
    "            z.append(y + '=' + str(y))\n",
    "            print(z)\n",
    "        return '\\r\\n'.join(z)\n",
    "    else :\n",
    "        return None"
   ]
  },
  {
   "cell_type": "code",
   "execution_count": 7,
   "metadata": {},
   "outputs": [],
   "source": [
    "def toparams(x):\n",
    "    x = x.dropna().astype(str)\n",
    "    #print(x.shape)\n",
    "    z = []\n",
    "    if x.shape[0]:\n",
    "        for y in x:\n",
    "            z.append(y + '=' + str(y))\n",
    "            print(z)\n",
    "        return '\\\\r\\\\n'.join(z)\n",
    "    else :\n",
    "        return None"
   ]
  },
  {
   "cell_type": "code",
   "execution_count": 8,
   "metadata": {},
   "outputs": [
    {
     "name": "stdout",
     "output_type": "stream",
     "text": [
      "['Цепной=Цепной']\n",
      "['Цепной=Цепной', 'Пассивный=Пассивный']\n",
      "['Кратковременный=Кратковременный']\n",
      "['Кратковременный=Кратковременный', 'Продолжительный=Продолжительный']\n",
      "['У=У']\n",
      "['У=У', 'УХЛ=УХЛ']\n",
      "['У=У', 'УХЛ=УХЛ', 'ХЛ=ХЛ']\n",
      "['У=У', 'УХЛ=УХЛ', 'ХЛ=ХЛ', 'ТВ=ТВ']\n",
      "['У=У', 'УХЛ=УХЛ', 'ХЛ=ХЛ', 'ТВ=ТВ', 'ТС=ТС']\n",
      "['У=У', 'УХЛ=УХЛ', 'ХЛ=ХЛ', 'ТВ=ТВ', 'ТС=ТС', 'Т=Т']\n",
      "['У=У', 'УХЛ=УХЛ', 'ХЛ=ХЛ', 'ТВ=ТВ', 'ТС=ТС', 'Т=Т', 'О=О']\n",
      "['У=У', 'УХЛ=УХЛ', 'ХЛ=ХЛ', 'ТВ=ТВ', 'ТС=ТС', 'Т=Т', 'О=О', 'М=М']\n",
      "['1=1']\n",
      "['1=1', '1,1=1,1']\n",
      "['1=1', '1,1=1,1', '2=2']\n",
      "['1=1', '1,1=1,1', '2=2', '2,1=2,1']\n",
      "['1=1', '1,1=1,1', '2=2', '2,1=2,1', '3=3']\n",
      "['1=1', '1,1=1,1', '2=2', '2,1=2,1', '3=3', '3,1=3,1']\n",
      "['1=1', '1,1=1,1', '2=2', '2,1=2,1', '3=3', '3,1=3,1', '4=4']\n",
      "['1=1', '1,1=1,1', '2=2', '2,1=2,1', '3=3', '3,1=3,1', '4=4', '4,1=4,1']\n",
      "['1=1', '1,1=1,1', '2=2', '2,1=2,1', '3=3', '3,1=3,1', '4=4', '4,1=4,1', '4,2=4,2']\n",
      "['1=1', '1,1=1,1', '2=2', '2,1=2,1', '3=3', '3,1=3,1', '4=4', '4,1=4,1', '4,2=4,2', '5=5']\n",
      "['1=1', '1,1=1,1', '2=2', '2,1=2,1', '3=3', '3,1=3,1', '4=4', '4,1=4,1', '4,2=4,2', '5=5', '5,1=5,1']\n",
      "['Сталь=Сталь']\n",
      "['Сталь=Сталь', 'Алюминий=Алюминий']\n",
      "['шестигранный=шестигранный']\n",
      "['шестигранный=шестигранный', 'круглый=круглый']\n",
      "['шестигранный=шестигранный', 'круглый=круглый', 'точечный=точечный']\n",
      "['Внешняя резьба=Внешняя резьба']\n",
      "['Внешняя резьба=Внешняя резьба', 'Внутреняя резьба=Внутреняя резьба']\n",
      "['Внешняя резьба=Внешняя резьба']\n",
      "['Внешняя резьба=Внешняя резьба', 'Внутреняя резьба=Внутреняя резьба']\n",
      "['Крюк=Крюк']\n",
      "['Крюк=Крюк', 'Проушина=Проушина']\n",
      "['Механический=Механический']\n",
      "['Механический=Механический', 'Гидравлический=Гидравлический']\n",
      "['Выносной=Выносной']\n",
      "['Выносной=Выносной', 'Встроенный=Встроенный']\n",
      "['Пружинный=Пружинный']\n",
      "['Пружинный=Пружинный', 'Гидравлический=Гидравлический']\n",
      "['Выносной=Выносной']\n",
      "['Выносной=Выносной', 'Встроенный=Встроенный']\n",
      "['Внешняя резьба=Внешняя резьба']\n",
      "['Внешняя резьба=Внешняя резьба', 'Внутреняя резьба=Внутреняя резьба']\n",
      "['Внешняя резьба=Внешняя резьба']\n",
      "['Внешняя резьба=Внешняя резьба', 'Внутреняя резьба=Внутреняя резьба']\n",
      "['Да=Да']\n",
      "['Да=Да', 'Нет=Нет']\n",
      "['Внешняя резьба=Внешняя резьба']\n",
      "['Внешняя резьба=Внешняя резьба', 'Внутреняя резьба=Внутреняя резьба']\n",
      "['Внешняя резьба=Внешняя резьба']\n",
      "['Внешняя резьба=Внешняя резьба', 'Внутреняя резьба=Внутреняя резьба']\n",
      "['Ступенчатый=Ступенчатый']\n",
      "['Ступенчатый=Ступенчатый', 'Клиновой=Клиновой']\n",
      "['Барабанный=Барабанный']\n",
      "['Барабанный=Барабанный', 'Сквозной=Сквозной']\n",
      "['Внешняя резьба=Внешняя резьба']\n",
      "['Внешняя резьба=Внешняя резьба', 'Внутреняя резьба=Внутреняя резьба']\n",
      "['нет=нет']\n",
      "['нет=нет', 'глицирин=глицирин']\n",
      "['нет=нет', 'глицирин=глицирин', 'силикон=силикон']\n",
      "['да=да']\n",
      "['да=да', 'нет=нет']\n",
      "['Сталь=Сталь']\n",
      "['Сталь=Сталь', 'Алюминий=Алюминий']\n",
      "['Сталь=Сталь', 'Алюминий=Алюминий', 'Медь=Медь']\n",
      "['Ручной=Ручной']\n",
      "['Ручной=Ручной', 'Ножной=Ножной']\n",
      "['1=1']\n",
      "['1=1', '2=2']\n",
      "['Квадрат=Квадрат']\n",
      "['Квадрат=Квадрат', 'Круг=Круг']\n",
      "['плавающая=плавающая']\n",
      "['плавающая=плавающая', 'рифленая=рифленая']\n",
      "['плавающая=плавающая', 'рифленая=рифленая', 'зубчатая=зубчатая']\n",
      "['плавающая=плавающая', 'рифленая=рифленая', 'зубчатая=зубчатая', 'плоская=плоская']\n",
      "['без крепления=без крепления']\n",
      "['без крепления=без крепления', 'уплотнение=уплотнение']\n",
      "['без крепления=без крепления', 'уплотнение=уплотнение', 'резьба=резьба']\n",
      "['Да=Да']\n",
      "['Да=Да', 'Нет=Нет']\n",
      "['Да=Да']\n",
      "['Да=Да', 'Нет=Нет']\n",
      "['Ручной=Ручной']\n",
      "['Ручной=Ручной', 'Электрический=Электрический']\n",
      "['Электродвигатель переменного тока 380В, трехфазный, 50 Гц=Электродвигатель переменного тока 380В, трехфазный, 50 Гц']\n",
      "['Электродвигатель переменного тока 380В, трехфазный, 50 Гц=Электродвигатель переменного тока 380В, трехфазный, 50 Гц', 'Электродвигатель переменного тока 380В, трехфазный, 50 Гц=Электродвигатель переменного тока 380В, трехфазный, 50 Гц']\n",
      "['Электродвигатель переменного тока 380В, трехфазный, 50 Гц=Электродвигатель переменного тока 380В, трехфазный, 50 Гц', 'Электродвигатель переменного тока 380В, трехфазный, 50 Гц=Электродвигатель переменного тока 380В, трехфазный, 50 Гц', 'Бензодвигатель=Бензодвигатель']\n",
      "['Электродвигатель переменного тока 380В, трехфазный, 50 Гц=Электродвигатель переменного тока 380В, трехфазный, 50 Гц', 'Электродвигатель переменного тока 380В, трехфазный, 50 Гц=Электродвигатель переменного тока 380В, трехфазный, 50 Гц', 'Бензодвигатель=Бензодвигатель', 'Пневмодвигатель=Пневмодвигатель']\n",
      "['На станции=На станции']\n",
      "['На станции=На станции', 'Дистанционный=Дистанционный']\n",
      "['На станции=На станции', 'Дистанционный=Дистанционный', 'Ножной=Ножной']\n",
      "['На станции=На станции', 'Дистанционный=Дистанционный', 'Ножной=Ножной', 'Радиоуправление=Радиоуправление']\n",
      "['Шестеренный=Шестеренный']\n",
      "['Шестеренный=Шестеренный', 'Рычажный=Рычажный']\n",
      "['Стационарный=Стационарный']\n",
      "['Стационарный=Стационарный', 'Передвижной=Передвижной']\n",
      "['Штуцер заглушка=Штуцер заглушка']\n",
      "['Штуцер заглушка=Штуцер заглушка', 'Штуцер прямой=Штуцер прямой']\n",
      "['Штуцер заглушка=Штуцер заглушка', 'Штуцер прямой=Штуцер прямой', 'Муфта прямая=Муфта прямая']\n"
     ]
    }
   ],
   "source": [
    "src_df['params'] = result[result.columns[3:14]].apply(lambda x: toparams(x),axis=1)"
   ]
  },
  {
   "cell_type": "code",
   "execution_count": 9,
   "metadata": {},
   "outputs": [
    {
     "data": {
      "text/html": [
       "<div>\n",
       "<style scoped>\n",
       "    .dataframe tbody tr th:only-of-type {\n",
       "        vertical-align: middle;\n",
       "    }\n",
       "\n",
       "    .dataframe tbody tr th {\n",
       "        vertical-align: top;\n",
       "    }\n",
       "\n",
       "    .dataframe thead th {\n",
       "        text-align: right;\n",
       "    }\n",
       "</style>\n",
       "<table border=\"1\" class=\"dataframe\">\n",
       "  <thead>\n",
       "    <tr style=\"text-align: right;\">\n",
       "      <th></th>\n",
       "      <th>unitkey</th>\n",
       "      <th>params</th>\n",
       "    </tr>\n",
       "  </thead>\n",
       "  <tbody>\n",
       "    <tr>\n",
       "      <th>1</th>\n",
       "      <td>Тележка ручная для тали</td>\n",
       "      <td>None</td>\n",
       "    </tr>\n",
       "    <tr>\n",
       "      <th>3</th>\n",
       "      <td>Грузоподъемность, тc</td>\n",
       "      <td>None</td>\n",
       "    </tr>\n",
       "    <tr>\n",
       "      <th>5</th>\n",
       "      <td>Тип передвижения,Цепной,Пассивный</td>\n",
       "      <td>Цепной=Цепной\\r\\nПассивный=Пассивный</td>\n",
       "    </tr>\n",
       "    <tr>\n",
       "      <th>7</th>\n",
       "      <td>Высота подъема, м</td>\n",
       "      <td>None</td>\n",
       "    </tr>\n",
       "    <tr>\n",
       "      <th>9</th>\n",
       "      <td>Двутавровая балка, мм</td>\n",
       "      <td>None</td>\n",
       "    </tr>\n",
       "    <tr>\n",
       "      <th>...</th>\n",
       "      <td>...</td>\n",
       "      <td>...</td>\n",
       "    </tr>\n",
       "    <tr>\n",
       "      <th>1</th>\n",
       "      <td>Таль ручная</td>\n",
       "      <td>None</td>\n",
       "    </tr>\n",
       "    <tr>\n",
       "      <th>5</th>\n",
       "      <td>Принцип функционирования,Шестеренный,Рычажный</td>\n",
       "      <td>Шестеренный=Шестеренный\\r\\nРычажный=Рычажный</td>\n",
       "    </tr>\n",
       "    <tr>\n",
       "      <th>7</th>\n",
       "      <td>Тип размещения,Стационарный,Передвижной</td>\n",
       "      <td>Стационарный=Стационарный\\r\\nПередвижной=Перед...</td>\n",
       "    </tr>\n",
       "    <tr>\n",
       "      <th>1</th>\n",
       "      <td>Штуцер - Муфта</td>\n",
       "      <td>None</td>\n",
       "    </tr>\n",
       "    <tr>\n",
       "      <th>3</th>\n",
       "      <td>Соединительный фитинг,Штуцер заглушка,Штуцер п...</td>\n",
       "      <td>Штуцер заглушка=Штуцер заглушка\\r\\nШтуцер прям...</td>\n",
       "    </tr>\n",
       "  </tbody>\n",
       "</table>\n",
       "<p>174 rows × 2 columns</p>\n",
       "</div>"
      ],
      "text/plain": [
       "                                              unitkey  \\\n",
       "1                             Тележка ручная для тали   \n",
       "3                                Грузоподъемность, тc   \n",
       "5                   Тип передвижения,Цепной,Пассивный   \n",
       "7                                   Высота подъема, м   \n",
       "9                               Двутавровая балка, мм   \n",
       "..                                                ...   \n",
       "1                                         Таль ручная   \n",
       "5       Принцип функционирования,Шестеренный,Рычажный   \n",
       "7             Тип размещения,Стационарный,Передвижной   \n",
       "1                                      Штуцер - Муфта   \n",
       "3   Соединительный фитинг,Штуцер заглушка,Штуцер п...   \n",
       "\n",
       "                                               params  \n",
       "1                                                None  \n",
       "3                                                None  \n",
       "5                Цепной=Цепной\\r\\nПассивный=Пассивный  \n",
       "7                                                None  \n",
       "9                                                None  \n",
       "..                                                ...  \n",
       "1                                                None  \n",
       "5        Шестеренный=Шестеренный\\r\\nРычажный=Рычажный  \n",
       "7   Стационарный=Стационарный\\r\\nПередвижной=Перед...  \n",
       "1                                                None  \n",
       "3   Штуцер заглушка=Штуцер заглушка\\r\\nШтуцер прям...  \n",
       "\n",
       "[174 rows x 2 columns]"
      ]
     },
     "execution_count": 9,
     "metadata": {},
     "output_type": "execute_result"
    }
   ],
   "source": [
    "src_df"
   ]
  },
  {
   "cell_type": "code",
   "execution_count": 10,
   "metadata": {},
   "outputs": [],
   "source": [
    "src_df['value'] = result.apply(lambda x: x.iloc[3] if x.iloc[3]=='Да'else '', axis=1)"
   ]
  },
  {
   "cell_type": "markdown",
   "metadata": {
    "jupyter": {
     "outputs_hidden": true
    }
   },
   "source": [
    "src_df['option'] = result.apply(lambda x: src_df['params'] if x.iloc[3]!='Да'else '', axis=1)"
   ]
  },
  {
   "cell_type": "code",
   "execution_count": 11,
   "metadata": {},
   "outputs": [],
   "source": [
    "src_df['label'] = result.apply(lambda x: x.iloc[2], axis=1)"
   ]
  },
  {
   "cell_type": "code",
   "execution_count": 12,
   "metadata": {},
   "outputs": [],
   "source": [
    "src_df['ind'] = result.index"
   ]
  },
  {
   "cell_type": "code",
   "execution_count": 13,
   "metadata": {},
   "outputs": [],
   "source": [
    "src_df['type'] = None"
   ]
  },
  {
   "cell_type": "code",
   "execution_count": 14,
   "metadata": {},
   "outputs": [],
   "source": [
    "src_df['type'] = src_df.apply(lambda x: 'divider' if x['ind']==1 else x['type'] or '',axis=1)"
   ]
  },
  {
   "cell_type": "code",
   "execution_count": 15,
   "metadata": {},
   "outputs": [],
   "source": [
    "src_df['type'] = src_df.apply(lambda x: 'field_checkbox' if x['value']=='Да' else x['type'],axis=1)"
   ]
  },
  {
   "cell_type": "code",
   "execution_count": 16,
   "metadata": {},
   "outputs": [],
   "source": [
    "src_df['type'] = src_df.apply(lambda x: 'field_select' if (not(x['value']) and (x['params'])) else x['type'],axis=1)"
   ]
  },
  {
   "cell_type": "code",
   "execution_count": 17,
   "metadata": {},
   "outputs": [],
   "source": [
    "src_df['type'] = src_df.apply(lambda x: 'field_text' if (not(x['value']) and not(x['params']) and not(x['ind']==1)) else x['type'],axis=1)"
   ]
  },
  {
   "cell_type": "code",
   "execution_count": 18,
   "metadata": {},
   "outputs": [],
   "source": [
    "src_df['options'] = src_df.apply(lambda x: x['params'] if x['type']=='field_select' else '',axis=1)"
   ]
  },
  {
   "cell_type": "code",
   "execution_count": 19,
   "metadata": {},
   "outputs": [
    {
     "data": {
      "text/plain": [
       "Index(['unitkey', 'params', 'value', 'label', 'ind', 'type', 'options'], dtype='object')"
      ]
     },
     "execution_count": 19,
     "metadata": {},
     "output_type": "execute_result"
    }
   ],
   "source": [
    "src_df.columns"
   ]
  },
  {
   "cell_type": "code",
   "execution_count": 20,
   "metadata": {},
   "outputs": [
    {
     "data": {
      "text/html": [
       "<div>\n",
       "<style scoped>\n",
       "    .dataframe tbody tr th:only-of-type {\n",
       "        vertical-align: middle;\n",
       "    }\n",
       "\n",
       "    .dataframe tbody tr th {\n",
       "        vertical-align: top;\n",
       "    }\n",
       "\n",
       "    .dataframe thead th {\n",
       "        text-align: right;\n",
       "    }\n",
       "</style>\n",
       "<table border=\"1\" class=\"dataframe\">\n",
       "  <thead>\n",
       "    <tr style=\"text-align: right;\">\n",
       "      <th></th>\n",
       "      <th>unitkey</th>\n",
       "      <th>params</th>\n",
       "      <th>value</th>\n",
       "      <th>label</th>\n",
       "      <th>ind</th>\n",
       "      <th>type</th>\n",
       "      <th>options</th>\n",
       "    </tr>\n",
       "  </thead>\n",
       "  <tbody>\n",
       "    <tr>\n",
       "      <th>1</th>\n",
       "      <td>Тележка ручная для тали</td>\n",
       "      <td>None</td>\n",
       "      <td></td>\n",
       "      <td>Тележка ручная для тали</td>\n",
       "      <td>1</td>\n",
       "      <td>divider</td>\n",
       "      <td></td>\n",
       "    </tr>\n",
       "    <tr>\n",
       "      <th>3</th>\n",
       "      <td>Грузоподъемность, тc</td>\n",
       "      <td>None</td>\n",
       "      <td></td>\n",
       "      <td>Грузоподъемность, тc</td>\n",
       "      <td>3</td>\n",
       "      <td>field_text</td>\n",
       "      <td></td>\n",
       "    </tr>\n",
       "    <tr>\n",
       "      <th>5</th>\n",
       "      <td>Тип передвижения,Цепной,Пассивный</td>\n",
       "      <td>Цепной=Цепной\\r\\nПассивный=Пассивный</td>\n",
       "      <td></td>\n",
       "      <td>Тип передвижения</td>\n",
       "      <td>5</td>\n",
       "      <td>field_select</td>\n",
       "      <td>Цепной=Цепной\\r\\nПассивный=Пассивный</td>\n",
       "    </tr>\n",
       "    <tr>\n",
       "      <th>7</th>\n",
       "      <td>Высота подъема, м</td>\n",
       "      <td>None</td>\n",
       "      <td></td>\n",
       "      <td>Высота подъема, м</td>\n",
       "      <td>7</td>\n",
       "      <td>field_text</td>\n",
       "      <td></td>\n",
       "    </tr>\n",
       "    <tr>\n",
       "      <th>9</th>\n",
       "      <td>Двутавровая балка, мм</td>\n",
       "      <td>None</td>\n",
       "      <td></td>\n",
       "      <td>Двутавровая балка, мм</td>\n",
       "      <td>9</td>\n",
       "      <td>field_text</td>\n",
       "      <td></td>\n",
       "    </tr>\n",
       "    <tr>\n",
       "      <th>...</th>\n",
       "      <td>...</td>\n",
       "      <td>...</td>\n",
       "      <td>...</td>\n",
       "      <td>...</td>\n",
       "      <td>...</td>\n",
       "      <td>...</td>\n",
       "      <td>...</td>\n",
       "    </tr>\n",
       "    <tr>\n",
       "      <th>1</th>\n",
       "      <td>Таль ручная</td>\n",
       "      <td>None</td>\n",
       "      <td></td>\n",
       "      <td>Таль ручная</td>\n",
       "      <td>1</td>\n",
       "      <td>divider</td>\n",
       "      <td></td>\n",
       "    </tr>\n",
       "    <tr>\n",
       "      <th>5</th>\n",
       "      <td>Принцип функционирования,Шестеренный,Рычажный</td>\n",
       "      <td>Шестеренный=Шестеренный\\r\\nРычажный=Рычажный</td>\n",
       "      <td></td>\n",
       "      <td>Принцип функционирования</td>\n",
       "      <td>5</td>\n",
       "      <td>field_select</td>\n",
       "      <td>Шестеренный=Шестеренный\\r\\nРычажный=Рычажный</td>\n",
       "    </tr>\n",
       "    <tr>\n",
       "      <th>7</th>\n",
       "      <td>Тип размещения,Стационарный,Передвижной</td>\n",
       "      <td>Стационарный=Стационарный\\r\\nПередвижной=Перед...</td>\n",
       "      <td></td>\n",
       "      <td>Тип размещения</td>\n",
       "      <td>7</td>\n",
       "      <td>field_select</td>\n",
       "      <td>Стационарный=Стационарный\\r\\nПередвижной=Перед...</td>\n",
       "    </tr>\n",
       "    <tr>\n",
       "      <th>1</th>\n",
       "      <td>Штуцер - Муфта</td>\n",
       "      <td>None</td>\n",
       "      <td></td>\n",
       "      <td>Штуцер - Муфта</td>\n",
       "      <td>1</td>\n",
       "      <td>divider</td>\n",
       "      <td></td>\n",
       "    </tr>\n",
       "    <tr>\n",
       "      <th>3</th>\n",
       "      <td>Соединительный фитинг,Штуцер заглушка,Штуцер п...</td>\n",
       "      <td>Штуцер заглушка=Штуцер заглушка\\r\\nШтуцер прям...</td>\n",
       "      <td></td>\n",
       "      <td>Соединительный фитинг</td>\n",
       "      <td>3</td>\n",
       "      <td>field_select</td>\n",
       "      <td>Штуцер заглушка=Штуцер заглушка\\r\\nШтуцер прям...</td>\n",
       "    </tr>\n",
       "  </tbody>\n",
       "</table>\n",
       "<p>174 rows × 7 columns</p>\n",
       "</div>"
      ],
      "text/plain": [
       "                                              unitkey  \\\n",
       "1                             Тележка ручная для тали   \n",
       "3                                Грузоподъемность, тc   \n",
       "5                   Тип передвижения,Цепной,Пассивный   \n",
       "7                                   Высота подъема, м   \n",
       "9                               Двутавровая балка, мм   \n",
       "..                                                ...   \n",
       "1                                         Таль ручная   \n",
       "5       Принцип функционирования,Шестеренный,Рычажный   \n",
       "7             Тип размещения,Стационарный,Передвижной   \n",
       "1                                      Штуцер - Муфта   \n",
       "3   Соединительный фитинг,Штуцер заглушка,Штуцер п...   \n",
       "\n",
       "                                               params value  \\\n",
       "1                                                None         \n",
       "3                                                None         \n",
       "5                Цепной=Цепной\\r\\nПассивный=Пассивный         \n",
       "7                                                None         \n",
       "9                                                None         \n",
       "..                                                ...   ...   \n",
       "1                                                None         \n",
       "5        Шестеренный=Шестеренный\\r\\nРычажный=Рычажный         \n",
       "7   Стационарный=Стационарный\\r\\nПередвижной=Перед...         \n",
       "1                                                None         \n",
       "3   Штуцер заглушка=Штуцер заглушка\\r\\nШтуцер прям...         \n",
       "\n",
       "                       label  ind          type  \\\n",
       "1    Тележка ручная для тали    1       divider   \n",
       "3       Грузоподъемность, тc    3    field_text   \n",
       "5           Тип передвижения    5  field_select   \n",
       "7          Высота подъема, м    7    field_text   \n",
       "9      Двутавровая балка, мм    9    field_text   \n",
       "..                       ...  ...           ...   \n",
       "1                Таль ручная    1       divider   \n",
       "5   Принцип функционирования    5  field_select   \n",
       "7             Тип размещения    7  field_select   \n",
       "1             Штуцер - Муфта    1       divider   \n",
       "3      Соединительный фитинг    3  field_select   \n",
       "\n",
       "                                              options  \n",
       "1                                                      \n",
       "3                                                      \n",
       "5                Цепной=Цепной\\r\\nПассивный=Пассивный  \n",
       "7                                                      \n",
       "9                                                      \n",
       "..                                                ...  \n",
       "1                                                      \n",
       "5        Шестеренный=Шестеренный\\r\\nРычажный=Рычажный  \n",
       "7   Стационарный=Стационарный\\r\\nПередвижной=Перед...  \n",
       "1                                                      \n",
       "3   Штуцер заглушка=Штуцер заглушка\\r\\nШтуцер прям...  \n",
       "\n",
       "[174 rows x 7 columns]"
      ]
     },
     "execution_count": 20,
     "metadata": {},
     "output_type": "execute_result"
    }
   ],
   "source": [
    "src_df"
   ]
  },
  {
   "cell_type": "markdown",
   "metadata": {
    "jupyter": {
     "outputs_hidden": true
    }
   },
   "source": [
    "for index, row in result.iterrows():\n",
    "    if index = 1:\n",
    "    row.dropna().shape[0])\n",
    "    print(index)"
   ]
  },
  {
   "cell_type": "code",
   "execution_count": 21,
   "metadata": {},
   "outputs": [],
   "source": [
    "src_df=src_df[['unitkey', 'type', 'label', 'value', 'options']]"
   ]
  },
  {
   "cell_type": "code",
   "execution_count": 22,
   "metadata": {},
   "outputs": [],
   "source": [
    "src_df=src_df.sort_values('unitkey')"
   ]
  },
  {
   "cell_type": "code",
   "execution_count": 23,
   "metadata": {},
   "outputs": [],
   "source": [
    "src_df.to_csv('forms_raw3_1.csv', index=False, quoting=csv.QUOTE_NONNUMERIC)"
   ]
  },
  {
   "cell_type": "markdown",
   "metadata": {},
   "source": [
    "result.to_csv('sku_head.csv')"
   ]
  },
  {
   "cell_type": "code",
   "execution_count": null,
   "metadata": {},
   "outputs": [],
   "source": []
  }
 ],
 "metadata": {
  "kernelspec": {
   "display_name": "Python 3",
   "language": "python",
   "name": "python3"
  },
  "language_info": {
   "codemirror_mode": {
    "name": "ipython",
    "version": 3
   },
   "file_extension": ".py",
   "mimetype": "text/x-python",
   "name": "python",
   "nbconvert_exporter": "python",
   "pygments_lexer": "ipython3",
   "version": "3.8.7"
  }
 },
 "nbformat": 4,
 "nbformat_minor": 4
}
